{
  "nbformat": 4,
  "nbformat_minor": 0,
  "metadata": {
    "colab": {
      "name": "Untitled2.ipynb",
      "provenance": [],
      "toc_visible": true,
      "authorship_tag": "ABX9TyOJqbhbc27Yg2PaTESe6tgY",
      "include_colab_link": true
    },
    "kernelspec": {
      "name": "python3",
      "display_name": "Python 3"
    },
    "language_info": {
      "name": "python"
    }
  },
  "cells": [
    {
      "cell_type": "markdown",
      "metadata": {
        "id": "view-in-github",
        "colab_type": "text"
      },
      "source": [
        "<a href=\"https://colab.research.google.com/github/AmirMansurian/KNN-classification/blob/master/KNN.ipynb\" target=\"_parent\"><img src=\"https://colab.research.google.com/assets/colab-badge.svg\" alt=\"Open In Colab\"/></a>"
      ]
    },
    {
      "cell_type": "markdown",
      "metadata": {
        "id": "uv34mugID46p"
      },
      "source": [
        "\n",
        "*   **Name = Amir Mansurian**\n",
        "*   **Student Number = 400210914**\n"
      ]
    },
    {
      "cell_type": "code",
      "metadata": {
        "id": "W958KWsID2SB"
      },
      "source": [
        "import KNN\n",
        "import utils\n",
        "import matplotlib.pyplot as plt\n",
        "import seaborn as sn"
      ],
      "execution_count": null,
      "outputs": []
    },
    {
      "cell_type": "markdown",
      "metadata": {
        "id": "-QFr40iefeim"
      },
      "source": [
        "Read databse, shuffle datas and split data to train and test sets. here i have choosed 80% of dataset to be training set. dataset is normalized because in the next section we calculate distance between training datas and test data."
      ]
    },
    {
      "cell_type": "code",
      "metadata": {
        "id": "7IbOqZKxEE6w"
      },
      "source": [
        "X, Y = utils.read_data('heart.csv', 'target')\n",
        "X = utils.normalize_data(X)\n",
        "X, Y = utils.suffle_data(X, Y)\n",
        "X_train, Y_train, X_test, Y_test = utils.split_data(X, Y, 0.8)"
      ],
      "execution_count": null,
      "outputs": []
    },
    {
      "cell_type": "markdown",
      "metadata": {
        "id": "vsgo6DHHgA3c"
      },
      "source": [
        "here we create example of KNN class with k number equal to 5 and fit model on the training set and predict labels of test set.\n"
      ]
    },
    {
      "cell_type": "code",
      "metadata": {
        "id": "JWZGrLR5EGdv"
      },
      "source": [
        "knn = KNN.KNN(5)\n",
        "predict = knn.predict(X_train, Y_train, X_test)"
      ],
      "execution_count": null,
      "outputs": []
    },
    {
      "cell_type": "markdown",
      "metadata": {
        "id": "yKs6BKKAgbga"
      },
      "source": [
        "confusion matrix of the model is calculated and ploted below :"
      ]
    },
    {
      "cell_type": "code",
      "metadata": {
        "colab": {
          "base_uri": "https://localhost:8080/",
          "height": 337
        },
        "id": "-gz7zwMtEQL-",
        "outputId": "37707543-6b64-4663-b120-f0ecadb6a5d1"
      },
      "source": [
        "confusion_matrix = utils.confusion_matrix(Y_test, predict)\n",
        "\n",
        "ax = sn.heatmap(confusion_matrix, annot=True, cmap='Blues')\n",
        "ax.set_title('Confusion Matrix \\n\\n');\n",
        "ax.set_xlabel('\\nPredicted Values')\n",
        "ax.set_ylabel('Actual Values ');\n",
        "ax.xaxis.set_ticklabels(['False','True'])\n",
        "ax.yaxis.set_ticklabels(['False','True'])\n",
        "## Display the visualization of the Confusion Matrix.\n",
        "plt.show()"
      ],
      "execution_count": null,
      "outputs": [
        {
          "output_type": "display_data",
          "data": {
            "image/png": "[encoded data removed]",
            "text/plain": [
              "<Figure size 432x288 with 2 Axes>"
            ]
          },
          "metadata": {
            "needs_background": "light"
          }
        }
      ]
    },
    {
      "cell_type": "code",
      "metadata": {
        "id": "_JBdNb5Xgh_L"
      },
      "source": [
        "also i have calculated parameters of the model below :"
      ],
      "execution_count": null,
      "outputs": []
    },
    {
      "cell_type": "code",
      "metadata": {
        "colab": {
          "base_uri": "https://localhost:8080/"
        },
        "id": "aTFbLQngERn3",
        "outputId": "ae3aba79-fe9b-4631-f609-32de91ac2a8c"
      },
      "source": [
        "Accuracy, Precision, Recall, F1score = utils.report(Y_test, predict)\n",
        "print('Accuracy : ', Accuracy*100, ' %')\n",
        "print('Precision : ', Precision*100, ' %')\n",
        "print('Recall : ', Recall*100, ' %')\n",
        "print('F1score : ', F1score*100, ' %')"
      ],
      "execution_count": null,
      "outputs": [
        {
          "output_type": "stream",
          "name": "stdout",
          "text": [
            "Accuracy :  86.88524590163934  %\n",
            "Precision :  92.85714285714286  %\n",
            "Recall :  81.25  %\n",
            "F1score :  86.66666666666666  %\n"
          ]
        }
      ]
    },
    {
      "cell_type": "markdown",
      "metadata": {
        "id": "4-pvcYT4gom6"
      },
      "source": [
        "now we are goinig to create 15 models with vaing k between 1-15. so we have  a loop on the number of K and save results of the accuracy on the test set and trainnig set :"
      ]
    },
    {
      "cell_type": "code",
      "metadata": {
        "id": "WnMSB2qYKfk3"
      },
      "source": [
        "accuracy_test = [0]*15\n",
        "accuracy_train = [0]*15\n",
        "\n",
        "for k in range(1, 16) :\n",
        "  knn = KNN.KNN(k)\n",
        "  predict = knn.predict(X_train, Y_train, X_test)\n",
        "  accuracy_test[k-1] = utils.precision(Y_test, predict)\n",
        "\n",
        "for k in range(1, 16) :\n",
        "  knn = KNN.KNN(k)\n",
        "  predict = knn.predict(X_train, Y_train, X_train)\n",
        "  accuracy_train[k-1] = utils.precision(Y_train, predict)\n"
      ],
      "execution_count": null,
      "outputs": []
    },
    {
      "cell_type": "markdown",
      "metadata": {
        "id": "jK4lzD4gg80R"
      },
      "source": [
        "at the last section we plot accuracy for train and test set for different values of K. as we can see in the diagram, when K = 1 accuracy on the train set is 100 % because model will find exactly the test data as it's neighbor. as K gets grater, accuracy on the test set will increase and accuracy of the train set will decrease. for K >=5 train set accuracy will decrease and accuracy of the test set has small changes and for k>=12 accuracy of both test and train set will decrease because the locality of the datas are ignored. best value for K is 5 because according to occam's rule we prefer simpler models. so K = 5 is the best value for K on this dtaset."
      ]
    },
    {
      "cell_type": "code",
      "metadata": {
        "colab": {
          "base_uri": "https://localhost:8080/",
          "height": 295
        },
        "id": "m3r9cH85M_HP",
        "outputId": "ca027e7d-ee89-4900-fd61-6b9de45e2c77"
      },
      "source": [
        "step = [i for i in range(1,16)]\n",
        "\n",
        "plt.plot(step, accuracy_test)\n",
        "plt.plot(step, accuracy_train)\n",
        "plt.title('KNN model Accuracy')\n",
        "plt.ylabel('accuracy')\n",
        "plt.xlabel('value of K')\n",
        "plt.legend(['test', 'train'], loc='upper right')\n",
        "plt.show()"
      ],
      "execution_count": null,
      "outputs": [
        {
          "output_type": "display_data",
          "data": {
            "image/png": "[encoded data removed]",
            "text/plain": [
              "<Figure size 432x288 with 1 Axes>"
            ]
          },
          "metadata": {
            "needs_background": "light"
          }
        }
      ]
    }
  ]
}